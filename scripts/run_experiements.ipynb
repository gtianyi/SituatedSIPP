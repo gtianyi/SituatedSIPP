{
 "cells": [
  {
   "cell_type": "code",
   "execution_count": 1,
   "id": "281879b0",
   "metadata": {},
   "outputs": [],
   "source": [
    "import xml.etree.ElementTree as ET\n",
    "from glob import glob\n",
    "import subprocess\n",
    "import os\n",
    "import pandas as pd\n",
    "from multiprocessing import Pool"
   ]
  },
  {
   "cell_type": "code",
   "execution_count": 2,
   "id": "c77d8061",
   "metadata": {},
   "outputs": [],
   "source": [
    "program = \"../../build_release/bin/ssipp\"\n"
   ]
  },
  {
   "cell_type": "code",
   "execution_count": 3,
   "id": "fd64a9c8",
   "metadata": {},
   "outputs": [],
   "source": [
    "timeout = 30"
   ]
  },
  {
   "cell_type": "code",
   "execution_count": 4,
   "id": "f4290d72",
   "metadata": {},
   "outputs": [],
   "source": [
    "target_folder = {\n",
    "    \"../instances/singleagent-icaps2020/empty64x64/\": \"empty64x64.xml\",\n",
    "    \"../instances/singleagent-icaps2020/warehouse/\": \"warehouse.xml\",\n",
    "    \"../instances/singleagent-icaps2020/rooms/\": \"rooms.xml\",\n",
    "    \"../instances/singleagent-icaps2020/den520d/\": \"den520d.xml\"\n",
    "                }\n",
    "\n",
    "\n"
   ]
  },
  {
   "cell_type": "code",
   "execution_count": 5,
   "id": "25b1dae8",
   "metadata": {},
   "outputs": [],
   "source": [
    "results = pd.DataFrame(columns = [\"task\", \"lookahead\", \"learning algorithm\", \"solved\", \"solution length\", \"solution duration\"])\n",
    "lookaheads = [\"10\", \"100\", \"1000\"]\n",
    "learnings = [\"dijkstralearning\", \"plrtalearning\"]\n",
    "dynmode = [\"0\", \"1\"]\n",
    "def parse_output(filepath):\n",
    "    tree = ET.parse(filepath)\n",
    "    root = tree.getroot()\n",
    "    try:\n",
    "        log = root.find(\"log\")\n",
    "        agent = log.find(\"agent\")\n",
    "        path = agent.find(\"path\")\n",
    "        return float(path.attrib[\"duration\"]), len(path)\n",
    "    except:\n",
    "        return float(\"inf\"), 0\n",
    "    \n",
    "def run_exp(config, task, lookahead, learning, dm):    \n",
    "    tree = ET.parse(config)\n",
    "    root = tree.getroot()\n",
    "    alg = root.find(\"algorithm\")\n",
    "    learning_algorithm = alg.find(\"learningalgorithm\")\n",
    "    learning_algorithm.text = learning\n",
    "    look = alg.find(\"fixedlookahead\")\n",
    "    look.text = lookahead\n",
    "    dyn = ET.SubElement(alg, 'dynmode')\n",
    "    dyn.text = dm\n",
    "    outconfig = config.split(\"/\")[-1]\n",
    "    tree.write(outconfig)\n",
    "    obs = task.replace(\".xml\", \"_obs.xml\")\n",
    "    outfile = task.replace(\".xml\", \"_log.xml\")\n",
    "    command = [program, task, config, outconfig, obs]\n",
    "    try:\n",
    "        subprocess.run(command, timeout = timeout)\n",
    "    except:\n",
    "        pass\n",
    "    res = parse_output(outfile)\n",
    "    return pd.Series(index = results.columns, data = (task, lookahead, learning, True, res[1], res[0]))"
   ]
  },
  {
   "cell_type": "code",
   "execution_count": 6,
   "id": "5dce9b54",
   "metadata": {
    "scrolled": true
   },
   "outputs": [
    {
     "name": "stdout",
     "output_type": "stream",
     "text": [
      "10 ../instances/singleagent-icaps2020/empty64x64/235_task.xml dijkstralearning ['0', '1']\n",
      "10 ../instances/singleagent-icaps2020/empty64x64/235_task.xml dijkstralearning ['0', '1']\n",
      "Warning! No 'prioritization' element found inside 'algorithm' section. Its value is set to 'fifo'.\n",
      "Warning! No 'prioritization' element found inside 'algorithm' section. Its value is set to 'fifo'.\n",
      "Warning! No 'timelimit' element found inside 'algorithm' section. Its value is set to 'infinity' (no limit).\n",
      "Warning! No 'rescheduling' element found inside 'algorithm' section. Its value is to 'no'.\n",
      "Warning! No 'planforturns' element found inside 'algorithm' section. Its value is set to 'false'.\n",
      "Warning! No 'timelimit' element found inside 'algorithm' section. Its value is set to 'infinity' (no limit).\n",
      "Warning! No 'rescheduling' element found inside 'algorithm' section. Its value is to 'no'.\n",
      "Warning! No 'waitbeforemove' element found inside 'algorithm' section. Its value is set to '0'.\n",
      "Warning! No 'planforturns' element found inside 'algorithm' section. Its value is set to 'false'.\n",
      "Warning! No 'connectedness' element found inside 'algorithm' section. Its value is set to '5'.\n",
      "Warning! No 'inflatecollisionintervals' element found inside 'algorithm' section. Its value is set to '0'.\n",
      "Warning! No 'waitbeforemove' element found inside 'algorithm' section. Its value is set to '0'.\n",
      "Warning! No 'connectedness' element found inside 'algorithm' section. Its value is set to '5'.\n",
      "Warning! No 'inflatecollisionintervals' element found inside 'algorithm' section. Its value is set to '0'.\n",
      "CONFIG LOADED\n",
      "MAP LOADED\n",
      "TASK LOADED\n",
      "OBSTACLES LOADED\n",
      "0.048205 60.8475 0 1 0 0 41\n",
      "LOG STARTED\n",
      "LOG SAVED\n",
      "CONFIG LOADED\n",
      "MAP LOADED\n",
      "TASK LOADED\n",
      "OBSTACLES LOADED\n",
      "0.046689 60.8475 0 1 0 0 41\n",
      "LOG STARTED\n",
      "LOG SAVED\n"
     ]
    }
   ],
   "source": [
    "c = 0\n",
    "exp_results = []\n",
    "pool = Pool(4)\n",
    "for cfg in target_folder:\n",
    "    config = cfg + target_folder[cfg]\n",
    "    tasks = glob(cfg+ \"/*task.xml\")\n",
    "    for lookahead in lookaheads:\n",
    "        for task in tasks:\n",
    "            for learning in learnings:\n",
    "                for dm in dynmode:\n",
    "                    print(lookahead, task, learning, dynmode)\n",
    "                    exp_results.append(pool.apply_async(run_exp, (config, task, lookahead, learning, dm)))"
   ]
  },
  {
   "cell_type": "code",
   "execution_count": null,
   "id": "74b49154",
   "metadata": {},
   "outputs": [],
   "source": []
  },
  {
   "cell_type": "code",
   "execution_count": 7,
   "id": "45a7318e",
   "metadata": {},
   "outputs": [],
   "source": [
    "outres = []\n",
    "for res in exp_results:\n",
    "    outres.append(res.get())\n"
   ]
  },
  {
   "cell_type": "code",
   "execution_count": null,
   "id": "30ec57af",
   "metadata": {},
   "outputs": [],
   "source": [
    "results = pd.concat(outres, axis = 1).T\n",
    "results[\"solved\"] = results[\"solution length\"] != 0"
   ]
  },
  {
   "cell_type": "code",
   "execution_count": null,
   "id": "5a5af895",
   "metadata": {},
   "outputs": [],
   "source": [
    "results.to_csv(\"more-results.csv\")"
   ]
  },
  {
   "cell_type": "code",
   "execution_count": null,
   "id": "c387e000",
   "metadata": {
    "scrolled": true
   },
   "outputs": [],
   "source": [
    "for lookahead in lookaheads:\n",
    "    for learning in learnings:\n",
    "        print(lookahead, learning)\n",
    "        print(results.loc[(results.lookahead == lookahead) & (results[\"learning algorithm\"] == learning), \"solved\"].sum())"
   ]
  },
  {
   "cell_type": "code",
   "execution_count": 13,
   "id": "2cf6fa98",
   "metadata": {},
   "outputs": [
    {
     "data": {
      "text/html": [
       "<div>\n",
       "<style scoped>\n",
       "    .dataframe tbody tr th:only-of-type {\n",
       "        vertical-align: middle;\n",
       "    }\n",
       "\n",
       "    .dataframe tbody tr th {\n",
       "        vertical-align: top;\n",
       "    }\n",
       "\n",
       "    .dataframe thead th {\n",
       "        text-align: right;\n",
       "    }\n",
       "</style>\n",
       "<table border=\"1\" class=\"dataframe\">\n",
       "  <thead>\n",
       "    <tr style=\"text-align: right;\">\n",
       "      <th></th>\n",
       "      <th>task</th>\n",
       "      <th>lookahead</th>\n",
       "      <th>learning algorithm</th>\n",
       "      <th>solved</th>\n",
       "      <th>solution length</th>\n",
       "      <th>solution duration</th>\n",
       "    </tr>\n",
       "  </thead>\n",
       "  <tbody>\n",
       "    <tr>\n",
       "      <th>0</th>\n",
       "      <td>../instances/singleagent-icaps2020/empty64x64/...</td>\n",
       "      <td>10</td>\n",
       "      <td>dijkstralearning</td>\n",
       "      <td>True</td>\n",
       "      <td>40</td>\n",
       "      <td>60.84745</td>\n",
       "    </tr>\n",
       "    <tr>\n",
       "      <th>1</th>\n",
       "      <td>../instances/singleagent-icaps2020/empty64x64/...</td>\n",
       "      <td>10</td>\n",
       "      <td>dijkstralearning</td>\n",
       "      <td>True</td>\n",
       "      <td>40</td>\n",
       "      <td>60.84745</td>\n",
       "    </tr>\n",
       "  </tbody>\n",
       "</table>\n",
       "</div>"
      ],
      "text/plain": [
       "                                                task lookahead  \\\n",
       "0  ../instances/singleagent-icaps2020/empty64x64/...        10   \n",
       "1  ../instances/singleagent-icaps2020/empty64x64/...        10   \n",
       "\n",
       "  learning algorithm solved solution length solution duration  \n",
       "0   dijkstralearning   True              40          60.84745  \n",
       "1   dijkstralearning   True              40          60.84745  "
      ]
     },
     "execution_count": 13,
     "metadata": {},
     "output_type": "execute_result"
    }
   ],
   "source": []
  },
  {
   "cell_type": "code",
   "execution_count": null,
   "id": "8c09b2a1",
   "metadata": {},
   "outputs": [],
   "source": []
  },
  {
   "cell_type": "code",
   "execution_count": null,
   "id": "a0d38345",
   "metadata": {},
   "outputs": [],
   "source": [
    "!pwd"
   ]
  },
  {
   "cell_type": "code",
   "execution_count": null,
   "id": "6b508eab",
   "metadata": {},
   "outputs": [],
   "source": []
  }
 ],
 "metadata": {
  "kernelspec": {
   "display_name": "Python 3 (ipykernel)",
   "language": "python",
   "name": "python3"
  },
  "language_info": {
   "codemirror_mode": {
    "name": "ipython",
    "version": 3
   },
   "file_extension": ".py",
   "mimetype": "text/x-python",
   "name": "python",
   "nbconvert_exporter": "python",
   "pygments_lexer": "ipython3",
   "version": "3.7.11"
  }
 },
 "nbformat": 4,
 "nbformat_minor": 5
}
